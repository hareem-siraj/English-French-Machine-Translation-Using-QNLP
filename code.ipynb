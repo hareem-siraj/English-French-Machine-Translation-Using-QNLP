{
 "cells": [
  {
   "cell_type": "code",
   "execution_count": 1,
   "metadata": {},
   "outputs": [],
   "source": [
    "import numpy as np\n",
    "import pandas as pd\n",
    "import tensorflow as tf\n",
    "import re\n",
    "from sklearn.model_selection import train_test_split\n",
    "from nltk.translate.bleu_score import sentence_bleu"
   ]
  },
  {
   "cell_type": "code",
   "execution_count": null,
   "metadata": {},
   "outputs": [],
   "source": [
    "#loading dataset\n",
    "data = pd.read_csv(\"eng-french.csv\", nrows = 50000)\n",
    "data.columns = ['english', 'french']\n",
    "\n",
    "# Clean 'english' column\n",
    "data['english'] = data['english'].str.lower()\n",
    "data['english'] = data['english'].apply(lambda x: re.sub(r\"[^a-z\\s]\", \"\", x))\n",
    "data['english'] = data['english'].apply(lambda x: re.sub(r\"\\s+\", \" \", x).strip())\n",
    "# Clean 'french' column\n",
    "data['french'] = data['french'].str.lower()\n",
    "data['french'] = data['french'].apply(lambda x: re.sub(r\"[^a-z\\s]\", \"\", x))\n",
    "data['french'] = data['french'].apply(lambda x: re.sub(r\"\\s+\", \" \", x).strip())\n",
    "\n",
    "data.head()"
   ]
  }
 ],
 "metadata": {
  "kernelspec": {
   "display_name": "Python 3",
   "language": "python",
   "name": "python3"
  },
  "language_info": {
   "codemirror_mode": {
    "name": "ipython",
    "version": 3
   },
   "file_extension": ".py",
   "mimetype": "text/x-python",
   "name": "python",
   "nbconvert_exporter": "python",
   "pygments_lexer": "ipython3",
   "version": "3.12.4"
  }
 },
 "nbformat": 4,
 "nbformat_minor": 2
}
